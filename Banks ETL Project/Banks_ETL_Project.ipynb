{
  "nbformat": 4,
  "nbformat_minor": 0,
  "metadata": {
    "colab": {
      "provenance": []
    },
    "kernelspec": {
      "name": "python3",
      "display_name": "Python 3"
    },
    "language_info": {
      "name": "python"
    }
  },
  "cells": [
    {
      "cell_type": "code",
      "source": [
        "import requests\n",
        "from bs4 import BeautifulSoup\n",
        "import pandas as pd\n",
        "import sqlite3\n",
        "import numpy as np\n",
        "from datetime import datetime"
      ],
      "metadata": {
        "id": "XMo_stBwDXw7"
      },
      "execution_count": 18,
      "outputs": []
    },
    {
      "cell_type": "code",
      "source": [
        "# Logging function\n",
        "def log_progress(message):\n",
        "    timestamp = datetime.now().strftime('%Y-%m-%d %H:%M:%S')\n",
        "    with open(\"code_log.txt\", \"a\") as log_file:\n",
        "        log_file.write(f\"{timestamp} : {message}\\n\")"
      ],
      "metadata": {
        "id": "kJujRx9xDZxI"
      },
      "execution_count": 20,
      "outputs": []
    },
    {
      "cell_type": "code",
      "source": [
        "# Extraction function\n",
        "def extract(url, table_attribs):\n",
        "    response = requests.get(url)\n",
        "    soup = BeautifulSoup(response.text, 'html.parser')\n",
        "    tables = pd.read_html(str(soup.find_all('table')))\n",
        "\n",
        "    print(f\"Total de tabelas extraídas: {len(tables)}\")\n",
        "    for idx, table in enumerate(tables):\n",
        "        print(f\"\\nTabela {idx} - Colunas: {table.columns}\")\n",
        "        print(table.head())\n",
        "\n",
        "    for table in tables:\n",
        "        if set(table_attribs).issubset(table.columns):\n",
        "            df = table[table_attribs]\n",
        "            df = df.rename(columns={\"Bank name\": \"Name\", \"Market cap (US$ billion)\": \"MC_USD_Billion\"})\n",
        "            df[\"MC_USD_Billion\"] = df[\"MC_USD_Billion\"].astype(str).str.replace('', '', regex=True).str.replace(',', '', regex=True).astype(float)\n",
        "            log_progress(\"Data extraction complete. Initiating Transformation process\")\n",
        "            return df\n",
        "\n",
        "        raise KeyError(\"Nenhuma tabela contendo as colunas especificadas foi encontrada.\")"
      ],
      "metadata": {
        "id": "k4-pzTxSDcW-"
      },
      "execution_count": 21,
      "outputs": []
    },
    {
      "cell_type": "code",
      "source": [
        "# Transformation function\n",
        "def transform(df, csv_path):\n",
        "    exchange_rates = pd.read_csv(csv_path, index_col=0).squeeze().to_dict()\n",
        "    df['MC_GBP_Billion'] = [np.round(x * exchange_rates['GBP'], 2) for x in df['MC_USD_Billion']]\n",
        "    df['MC_EUR_Billion'] = [np.round(x * exchange_rates['EUR'], 2) for x in df['MC_USD_Billion']]\n",
        "    df['MC_INR_Billion'] = [np.round(x * exchange_rates['INR'], 2) for x in df['MC_USD_Billion']]\n",
        "    log_progress(\"Data transformation complete. Initiating Loading process\")\n",
        "    return df"
      ],
      "metadata": {
        "id": "qBs1Hm-mDhTA"
      },
      "execution_count": 22,
      "outputs": []
    },
    {
      "cell_type": "code",
      "source": [
        "# Load to CSV function\n",
        "def load_to_csv(df, output_path):\n",
        "    df.to_csv(output_path, index=False)\n",
        "    log_progress(\"Data saved to CSV file\")"
      ],
      "metadata": {
        "id": "OinlDmtBDjVX"
      },
      "execution_count": 23,
      "outputs": []
    },
    {
      "cell_type": "code",
      "source": [
        "# Load to database function\n",
        "def load_to_db(df, sql_connection, table_name):\n",
        "    df.to_sql(table_name, sql_connection, if_exists='replace', index=False)\n",
        "    log_progress(\"Data loaded to Database as a table, Executing queries\")"
      ],
      "metadata": {
        "id": "j_GjgMuKDltg"
      },
      "execution_count": 24,
      "outputs": []
    },
    {
      "cell_type": "code",
      "source": [
        "# Run SQL queries function\n",
        "def run_query(query_statement, sql_connection):\n",
        "    cursor = sql_connection.cursor()\n",
        "    cursor.execute(query_statement)\n",
        "    rows = cursor.fetchall()\n",
        "    for row in rows:\n",
        "        print(row)\n",
        "    log_progress(\"Process Complete\")"
      ],
      "metadata": {
        "id": "z5ryWsm7Dn5p"
      },
      "execution_count": 25,
      "outputs": []
    },
    {
      "cell_type": "code",
      "source": [
        "# Main execution\n",
        "if __name__ == \"__main__\":\n",
        "    log_progress(\"Preliminaries complete. Initiating ETL process\")\n",
        "\n",
        "    url = \"https://web.archive.org/web/20230908091635/https://en.wikipedia.org/wiki/List_of_largest_banks\"\n",
        "    csv_path = \"exchange_rate.csv\"\n",
        "    exchange_rate_url = \"https://cf-courses-data.s3.us.cloud-object-storage.appdomain.cloud/IBMSkillsNetwork-PY0221EN-Coursera/labs/v2/exchange_rate.csv\"\n",
        "    output_csv_path = \"Largest_banks_data.csv\"\n",
        "    db_name = \"Banks.db\"\n",
        "    table_name = \"Largest_banks\"\n",
        "    table_attributes = [\"Bank name\", \"Market cap (US$ billion)\"]\n",
        "\n",
        "    df_extracted = extract(url, table_attributes)\n",
        "    import os\n",
        "    if not os.path.exists(csv_path):\n",
        "        log_progress(\"Exchange rate file not found. Downloading...\")\n",
        "        response = requests.get(exchange_rate_url)\n",
        "        with open(csv_path, 'wb') as file:\n",
        "            file.write(response.content)\n",
        "        log_progress(\"Exchange rate file downloaded successfully.\")\n",
        "\n",
        "    df_transformed = transform(df_extracted, csv_path)\n",
        "    load_to_csv(df_transformed, output_csv_path)\n",
        "\n",
        "    sql_connection = sqlite3.connect(db_name)\n",
        "    log_progress(\"SQL Connection initiated\")\n",
        "    load_to_db(df_transformed, sql_connection, table_name)\n",
        "\n",
        "    run_query(\"SELECT * FROM Largest_banks\", sql_connection)\n",
        "    run_query(\"SELECT AVG(MC_USD_Billion) FROM Largest_banks\", sql_connection)\n",
        "    run_query(\"SELECT Name FROM Largest_banks LIMIT 5\", sql_connection)\n",
        "\n",
        "    sql_connection.close()\n",
        "    log_progress(\"Server Connection closed\")"
      ],
      "metadata": {
        "colab": {
          "base_uri": "https://localhost:8080/"
        },
        "id": "-MrAJ7vO_e5s",
        "outputId": "b4954fc6-7fd4-4613-8b78-f9756edc18e1"
      },
      "execution_count": 26,
      "outputs": [
        {
          "output_type": "stream",
          "name": "stderr",
          "text": [
            "<ipython-input-21-0dc156273fe0>:5: FutureWarning: Passing literal html to 'read_html' is deprecated and will be removed in a future version. To read from a literal string, wrap it in a 'StringIO' object.\n",
            "  tables = pd.read_html(str(soup.find_all('table')))\n"
          ]
        },
        {
          "output_type": "stream",
          "name": "stdout",
          "text": [
            "Total de tabelas extraídas: 3\n",
            "\n",
            "Tabela 0 - Colunas: Index(['Rank', 'Bank name', 'Market cap (US$ billion)'], dtype='object')\n",
            "   Rank                                Bank name  Market cap (US$ billion)\n",
            "0     1                           JPMorgan Chase                    432.92\n",
            "1     2                          Bank of America                    231.52\n",
            "2     3  Industrial and Commercial Bank of China                    194.56\n",
            "3     4               Agricultural Bank of China                    160.68\n",
            "4     5                                HDFC Bank                    157.91\n",
            "\n",
            "Tabela 1 - Colunas: Index(['Rank', 'Bank name', 'Total assets (2022) (US$ billion)'], dtype='object')\n",
            "   Rank                                        Bank name  \\\n",
            "0     1  Industrial and Commercial Bank of China Limited   \n",
            "1     2                          China Construction Bank   \n",
            "2     3                       Agricultural Bank of China   \n",
            "3     4                                    Bank of China   \n",
            "4     5                                   JPMorgan Chase   \n",
            "\n",
            "   Total assets (2022) (US$ billion)  \n",
            "0                            5742.86  \n",
            "1                            5016.81  \n",
            "2                            4919.03  \n",
            "3                            4192.12  \n",
            "4                            3868.24  \n",
            "\n",
            "Tabela 2 - Colunas: Index(['Rank', 'Country', 'Number'], dtype='object')\n",
            "   Rank         Country  Number\n",
            "0     1           China      20\n",
            "1     2   United States      11\n",
            "2     3           Japan       8\n",
            "3     4  United Kingdom       6\n",
            "4     4          France       6\n",
            "('JPMorgan Chase', 432.92, 346.34, 402.62, 35910.71)\n",
            "('Bank of America', 231.52, 185.22, 215.31, 19204.58)\n",
            "('Industrial and Commercial Bank of China', 194.56, 155.65, 180.94, 16138.75)\n",
            "('Agricultural Bank of China', 160.68, 128.54, 149.43, 13328.41)\n",
            "('HDFC Bank', 157.91, 126.33, 146.86, 13098.63)\n",
            "('Wells Fargo', 155.87, 124.7, 144.96, 12929.42)\n",
            "('HSBC Holdings PLC', 148.9, 119.12, 138.48, 12351.26)\n",
            "('Morgan Stanley', 140.83, 112.66, 130.97, 11681.85)\n",
            "('China Construction Bank', 139.82, 111.86, 130.03, 11598.07)\n",
            "('Bank of China', 136.81, 109.45, 127.23, 11348.39)\n",
            "(189.982,)\n",
            "('JPMorgan Chase',)\n",
            "('Bank of America',)\n",
            "('Industrial and Commercial Bank of China',)\n",
            "('Agricultural Bank of China',)\n",
            "('HDFC Bank',)\n"
          ]
        }
      ]
    }
  ]
}