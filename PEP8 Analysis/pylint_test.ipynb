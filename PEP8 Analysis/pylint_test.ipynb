{
  "nbformat": 4,
  "nbformat_minor": 0,
  "metadata": {
    "colab": {
      "provenance": []
    },
    "kernelspec": {
      "name": "python3",
      "display_name": "Python 3"
    },
    "language_info": {
      "name": "python"
    }
  },
  "cells": [
    {
      "cell_type": "markdown",
      "source": [
        "VERIFICAÇÃO DA PADRONIZAÇÃO PEP8 PYTHON A PARTIR DA BIBLIOTECA PYLINT"
      ],
      "metadata": {
        "id": "8YJBmfSHXrG2"
      }
    },
    {
      "cell_type": "code",
      "execution_count": null,
      "metadata": {
        "id": "uygHzARGUKAl"
      },
      "outputs": [],
      "source": [
        "!pip install pylint nbconvert -q"
      ]
    },
    {
      "cell_type": "code",
      "source": [
        "!jupyter nbconvert --to script /content/Banks_ETL_Project.ipynb --output=banks_etl_script.py #INSIRA SEU NOTEBOOK E NOMEIE O OUTPUT (FORMATO IPYNB PARA PY)"
      ],
      "metadata": {
        "colab": {
          "base_uri": "https://localhost:8080/"
        },
        "id": "yrIyXxN4UhDf",
        "outputId": "102981e6-d7e0-46be-d865-673061e0b6e7"
      },
      "execution_count": null,
      "outputs": [
        {
          "output_type": "stream",
          "name": "stdout",
          "text": [
            "[NbConvertApp] Converting notebook /content/Banks_ETL_Project.ipynb to script\n",
            "[NbConvertApp] Writing 3931 bytes to /content/banks_etl_script.py.txt\n"
          ]
        }
      ]
    },
    {
      "cell_type": "code",
      "source": [
        "!mv /content/banks_etl_script.py.txt /content/banks_etl_script.py #CONVERTE O TXT PRODUZIDO EM PY, CONFIRA A ENTRADA E SAÍDA"
      ],
      "metadata": {
        "id": "35BpLu2ZVztC"
      },
      "execution_count": null,
      "outputs": []
    },
    {
      "cell_type": "code",
      "source": [
        "!pylint /content/banks_etl_script.py #RODA O PYLINT COM A LISTAGEM DE CORREÇÕES"
      ],
      "metadata": {
        "colab": {
          "base_uri": "https://localhost:8080/"
        },
        "id": "ahL7M9r5Uj5A",
        "outputId": "91151e8f-049b-427c-e889-05dd585c5db9"
      },
      "execution_count": null,
      "outputs": [
        {
          "output_type": "stream",
          "name": "stdout",
          "text": [
            "************* Module banks_etl_script\n",
            "banks_etl_script.py:28:0: C0301: Line too long (103/100) (line-too-long)\n",
            "banks_etl_script.py:29:0: C0301: Line too long (146/100) (line-too-long)\n",
            "banks_etl_script.py:67:0: C0301: Line too long (106/100) (line-too-long)\n",
            "banks_etl_script.py:69:0: C0301: Line too long (153/100) (line-too-long)\n",
            "banks_etl_script.py:1:0: C0114: Missing module docstring (missing-module-docstring)\n",
            "banks_etl_script.py:9:0: C0116: Missing function or method docstring (missing-function-docstring)\n",
            "banks_etl_script.py:11:9: W1514: Using open without explicitly specifying an encoding (unspecified-encoding)\n",
            "banks_etl_script.py:15:0: C0116: Missing function or method docstring (missing-function-docstring)\n",
            "banks_etl_script.py:15:12: W0621: Redefining name 'url' from outer scope (line 67) (redefined-outer-name)\n",
            "banks_etl_script.py:16:4: W0621: Redefining name 'response' from outer scope (line 79) (redefined-outer-name)\n",
            "banks_etl_script.py:16:15: W3101: Missing timeout argument for method 'requests.get' can cause your program to hang indefinitely (missing-timeout)\n",
            "banks_etl_script.py:36:0: C0116: Missing function or method docstring (missing-function-docstring)\n",
            "banks_etl_script.py:36:18: W0621: Redefining name 'csv_path' from outer scope (line 68) (redefined-outer-name)\n",
            "banks_etl_script.py:45:0: C0116: Missing function or method docstring (missing-function-docstring)\n",
            "banks_etl_script.py:50:0: C0116: Missing function or method docstring (missing-function-docstring)\n",
            "banks_etl_script.py:50:19: W0621: Redefining name 'sql_connection' from outer scope (line 87) (redefined-outer-name)\n",
            "banks_etl_script.py:50:35: W0621: Redefining name 'table_name' from outer scope (line 72) (redefined-outer-name)\n",
            "banks_etl_script.py:55:0: C0116: Missing function or method docstring (missing-function-docstring)\n",
            "banks_etl_script.py:55:31: W0621: Redefining name 'sql_connection' from outer scope (line 87) (redefined-outer-name)\n",
            "banks_etl_script.py:67:4: C0103: Constant name \"url\" doesn't conform to UPPER_CASE naming style (invalid-name)\n",
            "banks_etl_script.py:68:4: C0103: Constant name \"csv_path\" doesn't conform to UPPER_CASE naming style (invalid-name)\n",
            "banks_etl_script.py:69:4: C0103: Constant name \"exchange_rate_url\" doesn't conform to UPPER_CASE naming style (invalid-name)\n",
            "banks_etl_script.py:70:4: C0103: Constant name \"output_csv_path\" doesn't conform to UPPER_CASE naming style (invalid-name)\n",
            "banks_etl_script.py:71:4: C0103: Constant name \"db_name\" doesn't conform to UPPER_CASE naming style (invalid-name)\n",
            "banks_etl_script.py:72:4: C0103: Constant name \"table_name\" doesn't conform to UPPER_CASE naming style (invalid-name)\n",
            "banks_etl_script.py:79:19: W3101: Missing timeout argument for method 'requests.get' can cause your program to hang indefinitely (missing-timeout)\n",
            "banks_etl_script.py:4:0: C0411: standard import \"sqlite3\" should be placed before third party imports \"requests\", \"bs4.BeautifulSoup\", \"pandas\" (wrong-import-order)\n",
            "banks_etl_script.py:6:0: C0411: standard import \"datetime.datetime\" should be placed before third party imports \"requests\", \"bs4.BeautifulSoup\", \"pandas\", \"numpy\" (wrong-import-order)\n",
            "\n",
            "------------------------------------------------------------------\n",
            "Your code has been rated at 6.16/10 (previous run: 6.16/10, +0.00)\n",
            "\n"
          ]
        }
      ]
    },
    {
      "cell_type": "code",
      "source": [
        "!pylint /content/banks_etl_script.py > /content/pylint_report.txt"
      ],
      "metadata": {
        "id": "pcCUxwFfUzH8"
      },
      "execution_count": null,
      "outputs": []
    }
  ]
}