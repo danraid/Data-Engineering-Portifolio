{
  "nbformat": 4,
  "nbformat_minor": 0,
  "metadata": {
    "colab": {
      "provenance": []
    },
    "kernelspec": {
      "name": "python3",
      "display_name": "Python 3"
    },
    "language_info": {
      "name": "python"
    }
  },
  "cells": [
    {
      "cell_type": "markdown",
      "source": [
        "# **SELETOR DE ATIVOS GRUPOS GEOPOLÍTICOS DE PAÍSES E ATIVOS IN LOCO**"
      ],
      "metadata": {
        "id": "n2PrEWJxUd4u"
      }
    },
    {
      "cell_type": "code",
      "source": [
        "import pandas as pd\n",
        "import os"
      ],
      "metadata": {
        "id": "tpze1uHkUmEr"
      },
      "execution_count": 20,
      "outputs": []
    },
    {
      "cell_type": "code",
      "source": [
        "# Lista completa de países desenvolvidos (baseada no FMI e Banco Mundial)\n",
        "paises_desenvolvidos = {\n",
        "    \"US\", \"CA\",  # América do Norte\n",
        "    \"AT\", \"BE\", \"DK\", \"FI\", \"FR\", \"DE\", \"IE\", \"IT\", \"LU\", \"NL\", \"NO\", \"PT\", \"ES\", \"SE\", \"CH\", \"GB\",  # Europa\n",
        "    \"AU\", \"HK\", \"IL\", \"JP\", \"KR\", \"NZ\", \"SG\", \"TW\"  # Ásia-Pacífico\n",
        "}"
      ],
      "metadata": {
        "id": "gK27vYdYUoN2"
      },
      "execution_count": 21,
      "outputs": []
    },
    {
      "cell_type": "code",
      "source": [
        "# Mapeamento completo de moeda para região\n",
        "moeda_para_pais = {\n",
        "    \"USD\": \"US\", \"CAD\": \"CA\", \"GBP\": \"GB\", \"EUR\": \"FR\", \"JPY\": \"JP\", \"AUD\": \"AU\", \"NZD\": \"NZ\",\n",
        "    \"CHF\": \"CH\", \"SEK\": \"SE\", \"NOK\": \"NO\", \"DKK\": \"DK\", \"FJD\": \"FI\", \"BEF\": \"BE\", \"ATS\": \"AT\",\n",
        "    \"IEP\": \"IE\", \"SGD\": \"SG\", \"KRW\": \"KR\", \"ILS\": \"IL\", \"CNY\": \"CN\", \"INR\": \"IN\", \"BRL\": \"BR\",\n",
        "    \"RUB\": \"RU\", \"ZAR\": \"ZA\", \"MXN\": \"MX\", \"ARS\": \"AR\", \"TRY\": \"TR\", \"HKD\": \"HK\", \"TWD\": \"TW\",\n",
        "    \"MYR\": \"MY\", \"THB\": \"TH\", \"IDR\": \"ID\", \"PHP\": \"PH\", \"SAR\": \"SA\", \"AED\": \"AE\", \"VND\": \"VN\",\n",
        "    \"ITL\": \"IT\", \"LUF\": \"LU\", \"ESP\": \"ES\", \"PTE\": \"PT\", \"NLG\": \"NL\"\n",
        "}"
      ],
      "metadata": {
        "id": "KcW5Xfxtp91W"
      },
      "execution_count": 22,
      "outputs": []
    },
    {
      "cell_type": "code",
      "source": [
        "def classificar_ativos_por_pais(df, coluna_regiao):\n",
        "    \"\"\"\n",
        "    Classifica os ativos entre países desenvolvidos e em desenvolvimento com base na coluna REGION.\n",
        "    \"\"\"\n",
        "    df[\"Classificação Econômica\"] = df[coluna_regiao].apply(\n",
        "        lambda x: \"Desenvolvido\" if x in paises_desenvolvidos else \"Em Desenvolvimento\"\n",
        "    )\n",
        "    return df\n",
        "\n",
        "def adicionar_inloco(df, coluna_regiao, coluna_moeda):\n",
        "    \"\"\"\n",
        "    Adiciona uma coluna 'inloco' que indica se a moeda é do mesmo país da região.\n",
        "    \"\"\"\n",
        "    df[\"inloco\"] = df.apply(lambda row: 1 if moeda_para_pais.get(row[coluna_moeda]) == row[coluna_regiao] else 0, axis=1)\n",
        "    return df"
      ],
      "metadata": {
        "id": "SgROLkeIp7ob"
      },
      "execution_count": 23,
      "outputs": []
    },
    {
      "cell_type": "code",
      "source": [
        "# Diretório dos arquivos no Google Colab\n",
        "data_path = \"/content/\"\n",
        "\n",
        "# Lista de arquivos CSV a serem processados\n",
        "arquivos = {\n",
        "    \"ETFS_AMERICAS\": os.path.join(data_path, \"ETFS AMERICAS.csv\"),\n",
        "    \"ETFS_APAC\": os.path.join(data_path, \"ETFS APAC.csv\"),\n",
        "    \"ETFS_EMEA\": os.path.join(data_path, \"ETFS EMEA.csv\"),\n",
        "    \"STOCKS_APAC\": os.path.join(data_path, \"STOCKS APAC.csv\"),\n",
        "    \"STOCKS_CAN\": os.path.join(data_path, \"STOCKS CANADA MEXICO.csv\"),\n",
        "    \"STOCKS_EMEA\": os.path.join(data_path, \"STOCKS EMEA.csv\")\n",
        "}"
      ],
      "metadata": {
        "id": "5kYRbUxLYs0S"
      },
      "execution_count": 24,
      "outputs": []
    },
    {
      "cell_type": "code",
      "source": [
        "# Processar os arquivos e classificar os ativos\n",
        "resultados = {}\n",
        "for nome, caminho in arquivos.items():\n",
        "    try:\n",
        "        df = pd.read_csv(caminho, delimiter=';', encoding='utf-8', on_bad_lines='skip')\n",
        "        if \"REGION\" in df.columns and \"CURRENCY\" in df.columns:\n",
        "            df = classificar_ativos_por_pais(df, \"REGION\")\n",
        "            df = adicionar_inloco(df, \"REGION\", \"CURRENCY\")\n",
        "            resultados[nome] = df\n",
        "    except Exception as e:\n",
        "        print(f\"Erro ao processar {nome}: {e}\")"
      ],
      "metadata": {
        "id": "HNg78TZ-Yw9M"
      },
      "execution_count": 25,
      "outputs": []
    },
    {
      "cell_type": "code",
      "source": [
        "# Salvar os arquivos classificados\n",
        "for nome, df in resultados.items():\n",
        "    df.to_csv(os.path.join(data_path, f\"{nome}_classificado.csv\"), index=False, sep=';')\n",
        "    print(f\"Arquivo salvo: {os.path.join(data_path, f'{nome}_classificado.csv')}\")"
      ],
      "metadata": {
        "colab": {
          "base_uri": "https://localhost:8080/"
        },
        "id": "AKUIBL5TY0kC",
        "outputId": "d88c209e-311f-4007-8f82-f2beb2b97883"
      },
      "execution_count": 26,
      "outputs": [
        {
          "output_type": "stream",
          "name": "stdout",
          "text": [
            "Arquivo salvo: /content/ETFS_AMERICAS_classificado.csv\n",
            "Arquivo salvo: /content/ETFS_APAC_classificado.csv\n",
            "Arquivo salvo: /content/ETFS_EMEA_classificado.csv\n",
            "Arquivo salvo: /content/STOCKS_APAC_classificado.csv\n",
            "Arquivo salvo: /content/STOCKS_CAN_classificado.csv\n",
            "Arquivo salvo: /content/STOCKS_EMEA_classificado.csv\n"
          ]
        }
      ]
    },
    {
      "cell_type": "code",
      "execution_count": 27,
      "metadata": {
        "colab": {
          "base_uri": "https://localhost:8080/"
        },
        "id": "F8m3isRWTAiu",
        "outputId": "a3f28d4f-341d-4177-aea6-f12038adaaba"
      },
      "outputs": [
        {
          "output_type": "stream",
          "name": "stdout",
          "text": [
            "Arquivo filtrado salvo: /content/ETFS_AMERICAS_filtrado.csv\n",
            "Arquivo filtrado salvo: /content/ETFS_APAC_filtrado.csv\n",
            "Arquivo filtrado salvo: /content/ETFS_EMEA_filtrado.csv\n",
            "Arquivo filtrado salvo: /content/STOCKS_APAC_filtrado.csv\n",
            "Arquivo filtrado salvo: /content/STOCKS_CAN_filtrado.csv\n",
            "Arquivo filtrado salvo: /content/STOCKS_EMEA_filtrado.csv\n"
          ]
        }
      ],
      "source": [
        "# Criar arquivos filtrados (apenas desenvolvidos e inloco == 1)\n",
        "for nome, df in resultados.items():\n",
        "    df_filtrado = df[(df[\"Classificação Econômica\"] == \"Desenvolvido\") & (df[\"inloco\"] == 1)]\n",
        "    df_filtrado.to_csv(os.path.join(data_path, f\"{nome}_filtrado.csv\"), index=False, sep=';')\n",
        "    print(f\"Arquivo filtrado salvo: {os.path.join(data_path, f'{nome}_filtrado.csv')}\")"
      ]
    },
    {
      "cell_type": "code",
      "source": [
        "# Exibir um exemplo do resultado filtrado\n",
        "if resultados:\n",
        "    primeiro_nome, primeiro_df = next(iter(resultados.items()))\n",
        "    primeiro_df_filtrado = primeiro_df[(primeiro_df[\"Classificação Econômica\"] == \"Desenvolvido\") & (primeiro_df[\"inloco\"] == 1)]\n",
        "    print(f\"Exemplo de filtro para {primeiro_nome}:\")\n",
        "    print(primeiro_df_filtrado.head())"
      ],
      "metadata": {
        "colab": {
          "base_uri": "https://localhost:8080/"
        },
        "id": "H_-5Pk8NqYw9",
        "outputId": "89e78403-0994-48b7-8c29-4857bdf65574"
      },
      "execution_count": 28,
      "outputs": [
        {
          "output_type": "stream",
          "name": "stdout",
          "text": [
            "Exemplo de filtro para ETFS_AMERICAS:\n",
            "   SYMBOL                   DESCRIPTION IBKR SYMBOL CURRENCY PRODUCT REGION  \\\n",
            "5    9840        SPDR GOLD SHARES - USD        9840      USD     ETF     US   \n",
            "6     AAA  ALTERNATIVE ACCESS FIRST PRI         AAA      USD     ETF     US   \n",
            "7    AAAU   GOLDMAN SACHS PHYSICAL GOLD        AAAU      USD     ETF     US   \n",
            "9    AADR   ADVISORSHARES DORSEY WRIGHT        AADR      USD     ETF     US   \n",
            "10   AAPB  GRANITESHARES 2X LONG AAPL D        AAPB      USD     ETF     US   \n",
            "\n",
            "   EXCHANGE *PRIMARY EXCHANGE Classificação Econômica  inloco  \n",
            "5                       SEHK*            Desenvolvido       1  \n",
            "6                        NYSE            Desenvolvido       1  \n",
            "7                        AMEX            Desenvolvido       1  \n",
            "9                     NYSENAT            Desenvolvido       1  \n",
            "10                        IEX            Desenvolvido       1  \n"
          ]
        }
      ]
    }
  ]
}