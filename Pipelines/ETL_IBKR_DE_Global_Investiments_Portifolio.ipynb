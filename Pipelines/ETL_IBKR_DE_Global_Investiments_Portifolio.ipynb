{
  "nbformat": 4,
  "nbformat_minor": 0,
  "metadata": {
    "colab": {
      "provenance": []
    },
    "kernelspec": {
      "name": "python3",
      "display_name": "Python 3"
    },
    "language_info": {
      "name": "python"
    }
  },
  "cells": [
    {
      "cell_type": "markdown",
      "source": [
        "# **Extract (E)**"
      ],
      "metadata": {
        "id": "zam3ivRlXNMl"
      }
    },
    {
      "cell_type": "code",
      "execution_count": 75,
      "metadata": {
        "id": "xnC6qGcE_Ke5"
      },
      "outputs": [],
      "source": [
        "import glob\n",
        "import pandas as pd\n",
        "from datetime import datetime"
      ]
    },
    {
      "cell_type": "code",
      "source": [
        "log_file = \"log_file.txt\"\n",
        "target_file = \"transformed_data.csv\""
      ],
      "metadata": {
        "id": "NYr867n6D_lQ"
      },
      "execution_count": 78,
      "outputs": []
    },
    {
      "cell_type": "code",
      "source": [
        "def log_progress(message):\n",
        "    with open(log_file, \"a\") as f:\n",
        "        timestamp = datetime.now().strftime(\"%Y-%m-%d %H:%M:%S\")\n",
        "        f.write(f\"{timestamp} - {message}\\n\")\n",
        "    print(f\"{timestamp} - {message}\")  # Para debug no console"
      ],
      "metadata": {
        "id": "Tevl_EpHa0wQ"
      },
      "execution_count": 79,
      "outputs": []
    },
    {
      "cell_type": "code",
      "source": [
        "def extract_from_csv(file_to_process):\n",
        "    dataframe = pd.read_csv(file_to_process, sep=\";\", on_bad_lines=\"skip\", encoding=\"utf-8\")\n",
        "    return dataframe"
      ],
      "metadata": {
        "id": "sJByjzRNUk15"
      },
      "execution_count": 80,
      "outputs": []
    },
    {
      "cell_type": "code",
      "source": [
        "def extract():\n",
        "    # Criar um DataFrame vazio apenas com as colunas desejadas\n",
        "    extracted_data = pd.DataFrame(columns=['SYMBOL', 'DESCRIPTION', 'PRODUCT', 'REGION'])\n",
        "\n",
        "    # Caminho dos arquivos CSV\n",
        "    csv_path = \"/content/*.csv\"\n",
        "\n",
        "    for csvfile in glob.glob(csv_path):\n",
        "        temp_df = extract_from_csv(csvfile)\n",
        "\n",
        "        # Manter apenas as colunas desejadas (ignorar extras)\n",
        "        temp_df = temp_df[['SYMBOL', 'DESCRIPTION', 'PRODUCT', 'REGION']]\n",
        "\n",
        "        # Concatenar apenas essas colunas ao DataFrame final\n",
        "        extracted_data = pd.concat([extracted_data, temp_df], ignore_index=True)\n",
        "\n",
        "    return extracted_data"
      ],
      "metadata": {
        "id": "gU6Cr5D1WW4U"
      },
      "execution_count": 81,
      "outputs": []
    },
    {
      "cell_type": "markdown",
      "source": [
        "# **Transform (T)**"
      ],
      "metadata": {
        "id": "s5x_kWZwXTme"
      }
    },
    {
      "cell_type": "code",
      "source": [
        "def transform(data):\n",
        "    if \"SYMBOL\" in data.columns:\n",
        "        data[\"SYMBOL\"] = data[\"SYMBOL\"].str.upper()\n",
        "    else:\n",
        "        print(\"Aviso: Coluna 'SYMBOL' não encontrada no DataFrame.\")\n",
        "    return data"
      ],
      "metadata": {
        "id": "HQ7-jQj2XXjW"
      },
      "execution_count": 82,
      "outputs": []
    },
    {
      "cell_type": "markdown",
      "source": [
        "# **Loading and Logging (L)**"
      ],
      "metadata": {
        "id": "RA9ovEnKX9T3"
      }
    },
    {
      "cell_type": "code",
      "source": [
        "def load_data(target_file, transformed_data):\n",
        "    transformed_data.to_csv(target_file, index=False, encoding=\"utf-8-sig\")"
      ],
      "metadata": {
        "id": "SXT4iesDYN7E"
      },
      "execution_count": 83,
      "outputs": []
    },
    {
      "cell_type": "markdown",
      "source": [
        "LOGS"
      ],
      "metadata": {
        "id": "a4FLAMS7ZcIg"
      }
    },
    {
      "cell_type": "code",
      "source": [
        "# Log the initialization of the ETL process\n",
        "log_progress(\"ETL Job Started\")\n",
        "\n",
        "# Log the beginning of the Extraction process\n",
        "log_progress(\"Extract phase Started\")\n",
        "extracted_data = extract()\n",
        "\n",
        "# Log the completion of the Extraction process\n",
        "log_progress(\"Extract phase Ended\")\n",
        "\n",
        "# Log the beginning of the Transformation process\n",
        "log_progress(\"Transform phase Started\")\n",
        "transformed_data = transform(extracted_data)\n",
        "print(\"Transformed Data\")\n",
        "print(transformed_data)\n",
        "\n",
        "# Log the completion of the Transformation process\n",
        "log_progress(\"Transform phase Ended\")\n",
        "\n",
        "# Log the beginning of the Loading process\n",
        "log_progress(\"Load phase Started\")\n",
        "load_data(target_file,transformed_data)\n",
        "\n",
        "# Log the completion of the Loading process\n",
        "log_progress(\"Load phase Ended\")\n",
        "\n",
        "# Log the completion of the ETL process\n",
        "log_progress(\"ETL Job Ended\")"
      ],
      "metadata": {
        "colab": {
          "base_uri": "https://localhost:8080/"
        },
        "id": "6k1fyIhOZd3a",
        "outputId": "0ed83329-beba-4e1b-92e0-d5593b0e8f86"
      },
      "execution_count": 84,
      "outputs": [
        {
          "output_type": "stream",
          "name": "stdout",
          "text": [
            "2025-02-13 18:23:09 - ETL Job Started\n",
            "2025-02-13 18:23:09 - Extract phase Started\n",
            "2025-02-13 18:23:09 - Extract phase Ended\n",
            "2025-02-13 18:23:09 - Transform phase Started\n",
            "Transformed Data\n",
            "      SYMBOL                   DESCRIPTION PRODUCT REGION\n",
            "0       09K0  ARK SPACE EXPLORATION & INNO     ETF     US\n",
            "1       09KA           THE 3D PRINTING ETF     ETF     US\n",
            "2       0BYB   ISHARES GLOBAL CLEAN ENERGY     ETF     US\n",
            "3       2840              SPDR GOLD SHARES     ETF     US\n",
            "4      82840        SPDR GOLD SHARES - RMB     ETF     US\n",
            "...      ...                           ...     ...    ...\n",
            "67473    ZTE         ZTEST ELECTRONICS INC  Stocks     CA\n",
            "67474    ZTS                    ZOETIS INC  Stocks     MX\n",
            "67475   ZYUS       ZYUS LIFE SCIENCES CORP  Stocks     CA\n",
            "67476  ZYZ.A         TSE STOCK TEST SYMBOL  Stocks     CA\n",
            "67477  ZZE.H           ZIDANE CAPITAL CORP  Stocks     CA\n",
            "\n",
            "[67478 rows x 4 columns]\n",
            "2025-02-13 18:23:09 - Transform phase Ended\n",
            "2025-02-13 18:23:09 - Load phase Started\n",
            "2025-02-13 18:23:10 - Load phase Ended\n",
            "2025-02-13 18:23:10 - ETL Job Ended\n"
          ]
        }
      ]
    }
  ]
}